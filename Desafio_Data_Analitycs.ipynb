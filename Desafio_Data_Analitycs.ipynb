{
  "nbformat": 4,
  "nbformat_minor": 0,
  "metadata": {
    "colab": {
      "provenance": []
    },
    "kernelspec": {
      "name": "python3",
      "display_name": "Python 3"
    },
    "language_info": {
      "name": "python"
    }
  },
  "cells": [
    {
      "cell_type": "markdown",
      "source": [
        "<div align=\"center\">\n",
        "<h1>Desafio Data Analitycs</h1>\n",
        "<img src=\"https://assets.bizneo.com/system/images/files/014/613/598/original/Frexco_Transp.png?1617635198\" width=\"30%\"></img>\n",
        "<p>Resolvido por: <b>Micael Muniz</b><br>\n",
        "Data e hora de conclusão: 31/01/23 23:45</p>\n",
        "</div>"
      ],
      "metadata": {
        "id": "gpI81TUwN4Zz"
      }
    },
    {
      "cell_type": "markdown",
      "source": [
        "<h2>Parte 1: Analisando os Dados</h2>"
      ],
      "metadata": {
        "id": "ZoRbYePnXFU2"
      }
    },
    {
      "cell_type": "code",
      "source": [
        "# Importando as bibliotecas necessárias\n",
        "import pandas as pd\n",
        "import numpy as np\n",
        "import matplotlib.pyplot as plt\n",
        "from sklearn.ensemble import RandomForestRegressor\n",
        "from sklearn.model_selection import train_test_split\n",
        "from sklearn.linear_model import LinearRegression\n",
        "from sklearn.metrics import mean_absolute_error\n",
        "from sklearn.preprocessing import MinMaxScaler\n",
        "from datetime import datetime, timedelta\n",
        "from keras.models import Sequential\n",
        "from keras.layers import Dense, LSTM"
      ],
      "metadata": {
        "id": "gdkbzkFfN3lK"
      },
      "execution_count": 292,
      "outputs": []
    },
    {
      "cell_type": "code",
      "source": [
        "dataset = pd.read_csv(\"dados.csv\", delimiter=\";\")\n",
        "dataset.head(5)"
      ],
      "metadata": {
        "colab": {
          "base_uri": "https://localhost:8080/",
          "height": 206
        },
        "id": "KvQ38bHaP3kS",
        "outputId": "4727d031-90b3-49f5-9463-51a4693da1bd"
      },
      "execution_count": 263,
      "outputs": [
        {
          "output_type": "execute_result",
          "data": {
            "text/plain": [
              "         Data  Vendas\n",
              "0   6/12/2022     870\n",
              "1   7/12/2022     868\n",
              "2   8/12/2022    1189\n",
              "3   9/12/2022     742\n",
              "4  10/12/2022     317"
            ],
            "text/html": [
              "\n",
              "  <div id=\"df-36bb5246-a29e-431c-b0bb-be4489770c0b\">\n",
              "    <div class=\"colab-df-container\">\n",
              "      <div>\n",
              "<style scoped>\n",
              "    .dataframe tbody tr th:only-of-type {\n",
              "        vertical-align: middle;\n",
              "    }\n",
              "\n",
              "    .dataframe tbody tr th {\n",
              "        vertical-align: top;\n",
              "    }\n",
              "\n",
              "    .dataframe thead th {\n",
              "        text-align: right;\n",
              "    }\n",
              "</style>\n",
              "<table border=\"1\" class=\"dataframe\">\n",
              "  <thead>\n",
              "    <tr style=\"text-align: right;\">\n",
              "      <th></th>\n",
              "      <th>Data</th>\n",
              "      <th>Vendas</th>\n",
              "    </tr>\n",
              "  </thead>\n",
              "  <tbody>\n",
              "    <tr>\n",
              "      <th>0</th>\n",
              "      <td>6/12/2022</td>\n",
              "      <td>870</td>\n",
              "    </tr>\n",
              "    <tr>\n",
              "      <th>1</th>\n",
              "      <td>7/12/2022</td>\n",
              "      <td>868</td>\n",
              "    </tr>\n",
              "    <tr>\n",
              "      <th>2</th>\n",
              "      <td>8/12/2022</td>\n",
              "      <td>1189</td>\n",
              "    </tr>\n",
              "    <tr>\n",
              "      <th>3</th>\n",
              "      <td>9/12/2022</td>\n",
              "      <td>742</td>\n",
              "    </tr>\n",
              "    <tr>\n",
              "      <th>4</th>\n",
              "      <td>10/12/2022</td>\n",
              "      <td>317</td>\n",
              "    </tr>\n",
              "  </tbody>\n",
              "</table>\n",
              "</div>\n",
              "      <button class=\"colab-df-convert\" onclick=\"convertToInteractive('df-36bb5246-a29e-431c-b0bb-be4489770c0b')\"\n",
              "              title=\"Convert this dataframe to an interactive table.\"\n",
              "              style=\"display:none;\">\n",
              "        \n",
              "  <svg xmlns=\"http://www.w3.org/2000/svg\" height=\"24px\"viewBox=\"0 0 24 24\"\n",
              "       width=\"24px\">\n",
              "    <path d=\"M0 0h24v24H0V0z\" fill=\"none\"/>\n",
              "    <path d=\"M18.56 5.44l.94 2.06.94-2.06 2.06-.94-2.06-.94-.94-2.06-.94 2.06-2.06.94zm-11 1L8.5 8.5l.94-2.06 2.06-.94-2.06-.94L8.5 2.5l-.94 2.06-2.06.94zm10 10l.94 2.06.94-2.06 2.06-.94-2.06-.94-.94-2.06-.94 2.06-2.06.94z\"/><path d=\"M17.41 7.96l-1.37-1.37c-.4-.4-.92-.59-1.43-.59-.52 0-1.04.2-1.43.59L10.3 9.45l-7.72 7.72c-.78.78-.78 2.05 0 2.83L4 21.41c.39.39.9.59 1.41.59.51 0 1.02-.2 1.41-.59l7.78-7.78 2.81-2.81c.8-.78.8-2.07 0-2.86zM5.41 20L4 18.59l7.72-7.72 1.47 1.35L5.41 20z\"/>\n",
              "  </svg>\n",
              "      </button>\n",
              "      \n",
              "  <style>\n",
              "    .colab-df-container {\n",
              "      display:flex;\n",
              "      flex-wrap:wrap;\n",
              "      gap: 12px;\n",
              "    }\n",
              "\n",
              "    .colab-df-convert {\n",
              "      background-color: #E8F0FE;\n",
              "      border: none;\n",
              "      border-radius: 50%;\n",
              "      cursor: pointer;\n",
              "      display: none;\n",
              "      fill: #1967D2;\n",
              "      height: 32px;\n",
              "      padding: 0 0 0 0;\n",
              "      width: 32px;\n",
              "    }\n",
              "\n",
              "    .colab-df-convert:hover {\n",
              "      background-color: #E2EBFA;\n",
              "      box-shadow: 0px 1px 2px rgba(60, 64, 67, 0.3), 0px 1px 3px 1px rgba(60, 64, 67, 0.15);\n",
              "      fill: #174EA6;\n",
              "    }\n",
              "\n",
              "    [theme=dark] .colab-df-convert {\n",
              "      background-color: #3B4455;\n",
              "      fill: #D2E3FC;\n",
              "    }\n",
              "\n",
              "    [theme=dark] .colab-df-convert:hover {\n",
              "      background-color: #434B5C;\n",
              "      box-shadow: 0px 1px 3px 1px rgba(0, 0, 0, 0.15);\n",
              "      filter: drop-shadow(0px 1px 2px rgba(0, 0, 0, 0.3));\n",
              "      fill: #FFFFFF;\n",
              "    }\n",
              "  </style>\n",
              "\n",
              "      <script>\n",
              "        const buttonEl =\n",
              "          document.querySelector('#df-36bb5246-a29e-431c-b0bb-be4489770c0b button.colab-df-convert');\n",
              "        buttonEl.style.display =\n",
              "          google.colab.kernel.accessAllowed ? 'block' : 'none';\n",
              "\n",
              "        async function convertToInteractive(key) {\n",
              "          const element = document.querySelector('#df-36bb5246-a29e-431c-b0bb-be4489770c0b');\n",
              "          const dataTable =\n",
              "            await google.colab.kernel.invokeFunction('convertToInteractive',\n",
              "                                                     [key], {});\n",
              "          if (!dataTable) return;\n",
              "\n",
              "          const docLinkHtml = 'Like what you see? Visit the ' +\n",
              "            '<a target=\"_blank\" href=https://colab.research.google.com/notebooks/data_table.ipynb>data table notebook</a>'\n",
              "            + ' to learn more about interactive tables.';\n",
              "          element.innerHTML = '';\n",
              "          dataTable['output_type'] = 'display_data';\n",
              "          await google.colab.output.renderOutput(dataTable, element);\n",
              "          const docLink = document.createElement('div');\n",
              "          docLink.innerHTML = docLinkHtml;\n",
              "          element.appendChild(docLink);\n",
              "        }\n",
              "      </script>\n",
              "    </div>\n",
              "  </div>\n",
              "  "
            ]
          },
          "metadata": {},
          "execution_count": 263
        }
      ]
    },
    {
      "cell_type": "code",
      "source": [
        "print(type(dataset[\"Vendas\"][2]))\n",
        "print(dataset.columns)"
      ],
      "metadata": {
        "colab": {
          "base_uri": "https://localhost:8080/"
        },
        "id": "lq-5W_B6VqMp",
        "outputId": "09655c39-8bcc-4bb1-95c7-e2ab1de7163d"
      },
      "execution_count": 264,
      "outputs": [
        {
          "output_type": "stream",
          "name": "stdout",
          "text": [
            "<class 'numpy.int64'>\n",
            "Index(['Data', 'Vendas'], dtype='object')\n"
          ]
        }
      ]
    },
    {
      "cell_type": "markdown",
      "source": [
        "*PS: o dataset, originalmente em xlsx, formato do Excel, foi salvo como arquivo CSV, para maior flexibilidade e praticidade*\n"
      ],
      "metadata": {
        "id": "01IaBOr0SLog"
      }
    },
    {
      "cell_type": "code",
      "source": [
        "# converter a coluna de data de string para o tipo Timestamp\n",
        "dataset['Data'] = pd.to_datetime(dataset['Data'], format=\"%d/%m/%Y\")\n",
        "print(type(dataset['Data'][0]))"
      ],
      "metadata": {
        "colab": {
          "base_uri": "https://localhost:8080/"
        },
        "id": "XRdXp_WwUM5W",
        "outputId": "df38b8f8-810e-45d0-8797-74c494758d6e"
      },
      "execution_count": 265,
      "outputs": [
        {
          "output_type": "stream",
          "name": "stdout",
          "text": [
            "<class 'pandas._libs.tslibs.timestamps.Timestamp'>\n"
          ]
        }
      ]
    },
    {
      "cell_type": "code",
      "source": [
        "dataset.head(5)"
      ],
      "metadata": {
        "colab": {
          "base_uri": "https://localhost:8080/",
          "height": 206
        },
        "id": "XjDtH-O8VT4Q",
        "outputId": "9e7e3265-ff41-4296-b033-58f38ddf2351"
      },
      "execution_count": 266,
      "outputs": [
        {
          "output_type": "execute_result",
          "data": {
            "text/plain": [
              "        Data  Vendas\n",
              "0 2022-12-06     870\n",
              "1 2022-12-07     868\n",
              "2 2022-12-08    1189\n",
              "3 2022-12-09     742\n",
              "4 2022-12-10     317"
            ],
            "text/html": [
              "\n",
              "  <div id=\"df-05692a09-8cb3-4de7-a3ef-380ea3ef8d28\">\n",
              "    <div class=\"colab-df-container\">\n",
              "      <div>\n",
              "<style scoped>\n",
              "    .dataframe tbody tr th:only-of-type {\n",
              "        vertical-align: middle;\n",
              "    }\n",
              "\n",
              "    .dataframe tbody tr th {\n",
              "        vertical-align: top;\n",
              "    }\n",
              "\n",
              "    .dataframe thead th {\n",
              "        text-align: right;\n",
              "    }\n",
              "</style>\n",
              "<table border=\"1\" class=\"dataframe\">\n",
              "  <thead>\n",
              "    <tr style=\"text-align: right;\">\n",
              "      <th></th>\n",
              "      <th>Data</th>\n",
              "      <th>Vendas</th>\n",
              "    </tr>\n",
              "  </thead>\n",
              "  <tbody>\n",
              "    <tr>\n",
              "      <th>0</th>\n",
              "      <td>2022-12-06</td>\n",
              "      <td>870</td>\n",
              "    </tr>\n",
              "    <tr>\n",
              "      <th>1</th>\n",
              "      <td>2022-12-07</td>\n",
              "      <td>868</td>\n",
              "    </tr>\n",
              "    <tr>\n",
              "      <th>2</th>\n",
              "      <td>2022-12-08</td>\n",
              "      <td>1189</td>\n",
              "    </tr>\n",
              "    <tr>\n",
              "      <th>3</th>\n",
              "      <td>2022-12-09</td>\n",
              "      <td>742</td>\n",
              "    </tr>\n",
              "    <tr>\n",
              "      <th>4</th>\n",
              "      <td>2022-12-10</td>\n",
              "      <td>317</td>\n",
              "    </tr>\n",
              "  </tbody>\n",
              "</table>\n",
              "</div>\n",
              "      <button class=\"colab-df-convert\" onclick=\"convertToInteractive('df-05692a09-8cb3-4de7-a3ef-380ea3ef8d28')\"\n",
              "              title=\"Convert this dataframe to an interactive table.\"\n",
              "              style=\"display:none;\">\n",
              "        \n",
              "  <svg xmlns=\"http://www.w3.org/2000/svg\" height=\"24px\"viewBox=\"0 0 24 24\"\n",
              "       width=\"24px\">\n",
              "    <path d=\"M0 0h24v24H0V0z\" fill=\"none\"/>\n",
              "    <path d=\"M18.56 5.44l.94 2.06.94-2.06 2.06-.94-2.06-.94-.94-2.06-.94 2.06-2.06.94zm-11 1L8.5 8.5l.94-2.06 2.06-.94-2.06-.94L8.5 2.5l-.94 2.06-2.06.94zm10 10l.94 2.06.94-2.06 2.06-.94-2.06-.94-.94-2.06-.94 2.06-2.06.94z\"/><path d=\"M17.41 7.96l-1.37-1.37c-.4-.4-.92-.59-1.43-.59-.52 0-1.04.2-1.43.59L10.3 9.45l-7.72 7.72c-.78.78-.78 2.05 0 2.83L4 21.41c.39.39.9.59 1.41.59.51 0 1.02-.2 1.41-.59l7.78-7.78 2.81-2.81c.8-.78.8-2.07 0-2.86zM5.41 20L4 18.59l7.72-7.72 1.47 1.35L5.41 20z\"/>\n",
              "  </svg>\n",
              "      </button>\n",
              "      \n",
              "  <style>\n",
              "    .colab-df-container {\n",
              "      display:flex;\n",
              "      flex-wrap:wrap;\n",
              "      gap: 12px;\n",
              "    }\n",
              "\n",
              "    .colab-df-convert {\n",
              "      background-color: #E8F0FE;\n",
              "      border: none;\n",
              "      border-radius: 50%;\n",
              "      cursor: pointer;\n",
              "      display: none;\n",
              "      fill: #1967D2;\n",
              "      height: 32px;\n",
              "      padding: 0 0 0 0;\n",
              "      width: 32px;\n",
              "    }\n",
              "\n",
              "    .colab-df-convert:hover {\n",
              "      background-color: #E2EBFA;\n",
              "      box-shadow: 0px 1px 2px rgba(60, 64, 67, 0.3), 0px 1px 3px 1px rgba(60, 64, 67, 0.15);\n",
              "      fill: #174EA6;\n",
              "    }\n",
              "\n",
              "    [theme=dark] .colab-df-convert {\n",
              "      background-color: #3B4455;\n",
              "      fill: #D2E3FC;\n",
              "    }\n",
              "\n",
              "    [theme=dark] .colab-df-convert:hover {\n",
              "      background-color: #434B5C;\n",
              "      box-shadow: 0px 1px 3px 1px rgba(0, 0, 0, 0.15);\n",
              "      filter: drop-shadow(0px 1px 2px rgba(0, 0, 0, 0.3));\n",
              "      fill: #FFFFFF;\n",
              "    }\n",
              "  </style>\n",
              "\n",
              "      <script>\n",
              "        const buttonEl =\n",
              "          document.querySelector('#df-05692a09-8cb3-4de7-a3ef-380ea3ef8d28 button.colab-df-convert');\n",
              "        buttonEl.style.display =\n",
              "          google.colab.kernel.accessAllowed ? 'block' : 'none';\n",
              "\n",
              "        async function convertToInteractive(key) {\n",
              "          const element = document.querySelector('#df-05692a09-8cb3-4de7-a3ef-380ea3ef8d28');\n",
              "          const dataTable =\n",
              "            await google.colab.kernel.invokeFunction('convertToInteractive',\n",
              "                                                     [key], {});\n",
              "          if (!dataTable) return;\n",
              "\n",
              "          const docLinkHtml = 'Like what you see? Visit the ' +\n",
              "            '<a target=\"_blank\" href=https://colab.research.google.com/notebooks/data_table.ipynb>data table notebook</a>'\n",
              "            + ' to learn more about interactive tables.';\n",
              "          element.innerHTML = '';\n",
              "          dataTable['output_type'] = 'display_data';\n",
              "          await google.colab.output.renderOutput(dataTable, element);\n",
              "          const docLink = document.createElement('div');\n",
              "          docLink.innerHTML = docLinkHtml;\n",
              "          element.appendChild(docLink);\n",
              "        }\n",
              "      </script>\n",
              "    </div>\n",
              "  </div>\n",
              "  "
            ]
          },
          "metadata": {},
          "execution_count": 266
        }
      ]
    },
    {
      "cell_type": "markdown",
      "source": [
        "<h4>Funções utilitárias<h4>"
      ],
      "metadata": {
        "id": "tLuX05kQRteY"
      }
    },
    {
      "cell_type": "code",
      "source": [
        "def show_plot(dataset_plot, timestamp = None):\n",
        "  \"\"\"\n",
        "  Exibe um gráfico de linha com o dataset fornecido, contendo uma linha no timestamp\n",
        "  \"\"\"\n",
        "  # Definindo a data como o index para melhor visualização do gráfico\n",
        "  dataset_view = dataset_plot[['Data', 'Vendas']].copy()\n",
        "  dataset_view.set_index('Data', inplace=True)\n",
        "\n",
        "  ax = dataset_view.plot(kind='line')\n",
        "\n",
        "  if timestamp:\n",
        "    # Adicionar a linha vertical usando o índice timestamp\n",
        "    vertical_line_timestamp = timestamp\n",
        "    ax.axvline(x=vertical_line_timestamp, color='red', linestyle='--', linewidth=2, alpha=0.5)\n",
        "\n",
        "    # Adicionar a anotação \"predição\" na parte inferior à direita da linha\n",
        "    x_pos = vertical_line_timestamp\n",
        "    y_pos = ax.get_ylim()[0]\n",
        "    ax.annotate(\"predição\", (x_pos, y_pos), xytext=(1, 0.8), textcoords='axes fraction',\n",
        "                fontsize=14, ha='center', va='bottom')\n",
        "  plt.tight_layout()\n",
        "  plt.show()\n",
        "\n",
        "def update_dataframe(df, sales):\n",
        "  \"\"\"\n",
        "  Atualiza o dataframe com 5 novas linhas contendo a previsão gerada por algum modelo\n",
        "  \"\"\"\n",
        "  new_sales = []\n",
        "  for i in range(1, 6):\n",
        "      new_date = df['Data'].iloc[-1] + timedelta(days=i)\n",
        "      new_line = {'Data': new_date, \n",
        "                    'Vendas': sales[i-1], \n",
        "                    'dia_semana': (new_date.weekday() + 1) % 7, \n",
        "                    'semana_ano': new_date.strftime('%U'), \n",
        "                    'dia_mes': new_date.day}\n",
        "      new_sales.append(new_line)\n",
        "  return df.append(new_sales, ignore_index=True)"
      ],
      "metadata": {
        "id": "9X-tZ4p8Tjlw"
      },
      "execution_count": 267,
      "outputs": []
    },
    {
      "cell_type": "code",
      "source": [
        "show_plot(dataset)"
      ],
      "metadata": {
        "colab": {
          "base_uri": "https://localhost:8080/",
          "height": 298
        },
        "id": "x8FXbfcVRkyg",
        "outputId": "dbc4248b-05ff-426f-aec3-18ceb7cfc149"
      },
      "execution_count": 268,
      "outputs": [
        {
          "output_type": "display_data",
          "data": {
            "text/plain": [
              "<Figure size 432x288 with 1 Axes>"
            ],
            "image/png": "[encoded data removed]"
          },
          "metadata": {
            "needs_background": "light"
          }
        }
      ]
    },
    {
      "cell_type": "markdown",
      "source": [
        "*gráfico dos dados originais, mostra como o crescimento e declinio das vendas, percebe-se um padrão*"
      ],
      "metadata": {
        "id": "DHxhaZ3fQWQg"
      }
    },
    {
      "cell_type": "markdown",
      "source": [
        "<h2>Parte 2 - Tratando os dados... Um pouco mais</h2>"
      ],
      "metadata": {
        "id": "60xdDBzMGTXh"
      }
    },
    {
      "cell_type": "markdown",
      "source": [
        "*Normalmente trabalho com inteiros, floats e strings ao treinar modelos de ML, mas nunca usei datas como um tipo próprio e uma informação relevante para o modelo no formato DDMMYYYY, por essa razão, optei por <i>\"descartar\"</i> a coluna data e criar novas colunas com informações derivadas da data, como dia da semana, semana do ano e dia do mês. Além disso, defini a coluna \"data\" como o índice.*"
      ],
      "metadata": {
        "id": "mcz7yD2SGcKp"
      }
    },
    {
      "cell_type": "code",
      "source": [
        "# criando novas colunas derivadas do 'data' \n",
        "dataset['dia_semana'] = dataset['Data'].dt.weekday\n",
        "dataset['semana_ano'] = dataset['Data'].dt.weekofyear\n",
        "dataset['dia_mes'] = dataset['Data'].dt.day\n",
        "last_day = dataset['Data'].iloc[-1]\n",
        "#dataset.set_index('Data', inplace=True)\n",
        "\n",
        "dataset.head(10)"
      ],
      "metadata": {
        "id": "kTejz2ofGrAa",
        "colab": {
          "base_uri": "https://localhost:8080/",
          "height": 418
        },
        "outputId": "a00c3534-da87-4ff2-c1c2-489723a188eb"
      },
      "execution_count": 269,
      "outputs": [
        {
          "output_type": "stream",
          "name": "stderr",
          "text": [
            "<ipython-input-269-a28cb3b740d7>:3: FutureWarning: Series.dt.weekofyear and Series.dt.week have been deprecated.  Please use Series.dt.isocalendar().week instead.\n",
            "  dataset['semana_ano'] = dataset['Data'].dt.weekofyear\n"
          ]
        },
        {
          "output_type": "execute_result",
          "data": {
            "text/plain": [
              "        Data  Vendas  dia_semana  semana_ano  dia_mes\n",
              "0 2022-12-06     870           1          49        6\n",
              "1 2022-12-07     868           2          49        7\n",
              "2 2022-12-08    1189           3          49        8\n",
              "3 2022-12-09     742           4          49        9\n",
              "4 2022-12-10     317           5          49       10\n",
              "5 2022-12-11     685           6          49       11\n",
              "6 2022-12-12    1366           0          50       12\n",
              "7 2022-12-13    1213           1          50       13\n",
              "8 2022-12-14    1055           2          50       14\n",
              "9 2022-12-15    1343           3          50       15"
            ],
            "text/html": [
              "\n",
              "  <div id=\"df-b2f0bf17-5302-4b6b-ad66-fe6d3744a7bf\">\n",
              "    <div class=\"colab-df-container\">\n",
              "      <div>\n",
              "<style scoped>\n",
              "    .dataframe tbody tr th:only-of-type {\n",
              "        vertical-align: middle;\n",
              "    }\n",
              "\n",
              "    .dataframe tbody tr th {\n",
              "        vertical-align: top;\n",
              "    }\n",
              "\n",
              "    .dataframe thead th {\n",
              "        text-align: right;\n",
              "    }\n",
              "</style>\n",
              "<table border=\"1\" class=\"dataframe\">\n",
              "  <thead>\n",
              "    <tr style=\"text-align: right;\">\n",
              "      <th></th>\n",
              "      <th>Data</th>\n",
              "      <th>Vendas</th>\n",
              "      <th>dia_semana</th>\n",
              "      <th>semana_ano</th>\n",
              "      <th>dia_mes</th>\n",
              "    </tr>\n",
              "  </thead>\n",
              "  <tbody>\n",
              "    <tr>\n",
              "      <th>0</th>\n",
              "      <td>2022-12-06</td>\n",
              "      <td>870</td>\n",
              "      <td>1</td>\n",
              "      <td>49</td>\n",
              "      <td>6</td>\n",
              "    </tr>\n",
              "    <tr>\n",
              "      <th>1</th>\n",
              "      <td>2022-12-07</td>\n",
              "      <td>868</td>\n",
              "      <td>2</td>\n",
              "      <td>49</td>\n",
              "      <td>7</td>\n",
              "    </tr>\n",
              "    <tr>\n",
              "      <th>2</th>\n",
              "      <td>2022-12-08</td>\n",
              "      <td>1189</td>\n",
              "      <td>3</td>\n",
              "      <td>49</td>\n",
              "      <td>8</td>\n",
              "    </tr>\n",
              "    <tr>\n",
              "      <th>3</th>\n",
              "      <td>2022-12-09</td>\n",
              "      <td>742</td>\n",
              "      <td>4</td>\n",
              "      <td>49</td>\n",
              "      <td>9</td>\n",
              "    </tr>\n",
              "    <tr>\n",
              "      <th>4</th>\n",
              "      <td>2022-12-10</td>\n",
              "      <td>317</td>\n",
              "      <td>5</td>\n",
              "      <td>49</td>\n",
              "      <td>10</td>\n",
              "    </tr>\n",
              "    <tr>\n",
              "      <th>5</th>\n",
              "      <td>2022-12-11</td>\n",
              "      <td>685</td>\n",
              "      <td>6</td>\n",
              "      <td>49</td>\n",
              "      <td>11</td>\n",
              "    </tr>\n",
              "    <tr>\n",
              "      <th>6</th>\n",
              "      <td>2022-12-12</td>\n",
              "      <td>1366</td>\n",
              "      <td>0</td>\n",
              "      <td>50</td>\n",
              "      <td>12</td>\n",
              "    </tr>\n",
              "    <tr>\n",
              "      <th>7</th>\n",
              "      <td>2022-12-13</td>\n",
              "      <td>1213</td>\n",
              "      <td>1</td>\n",
              "      <td>50</td>\n",
              "      <td>13</td>\n",
              "    </tr>\n",
              "    <tr>\n",
              "      <th>8</th>\n",
              "      <td>2022-12-14</td>\n",
              "      <td>1055</td>\n",
              "      <td>2</td>\n",
              "      <td>50</td>\n",
              "      <td>14</td>\n",
              "    </tr>\n",
              "    <tr>\n",
              "      <th>9</th>\n",
              "      <td>2022-12-15</td>\n",
              "      <td>1343</td>\n",
              "      <td>3</td>\n",
              "      <td>50</td>\n",
              "      <td>15</td>\n",
              "    </tr>\n",
              "  </tbody>\n",
              "</table>\n",
              "</div>\n",
              "      <button class=\"colab-df-convert\" onclick=\"convertToInteractive('df-b2f0bf17-5302-4b6b-ad66-fe6d3744a7bf')\"\n",
              "              title=\"Convert this dataframe to an interactive table.\"\n",
              "              style=\"display:none;\">\n",
              "        \n",
              "  <svg xmlns=\"http://www.w3.org/2000/svg\" height=\"24px\"viewBox=\"0 0 24 24\"\n",
              "       width=\"24px\">\n",
              "    <path d=\"M0 0h24v24H0V0z\" fill=\"none\"/>\n",
              "    <path d=\"M18.56 5.44l.94 2.06.94-2.06 2.06-.94-2.06-.94-.94-2.06-.94 2.06-2.06.94zm-11 1L8.5 8.5l.94-2.06 2.06-.94-2.06-.94L8.5 2.5l-.94 2.06-2.06.94zm10 10l.94 2.06.94-2.06 2.06-.94-2.06-.94-.94-2.06-.94 2.06-2.06.94z\"/><path d=\"M17.41 7.96l-1.37-1.37c-.4-.4-.92-.59-1.43-.59-.52 0-1.04.2-1.43.59L10.3 9.45l-7.72 7.72c-.78.78-.78 2.05 0 2.83L4 21.41c.39.39.9.59 1.41.59.51 0 1.02-.2 1.41-.59l7.78-7.78 2.81-2.81c.8-.78.8-2.07 0-2.86zM5.41 20L4 18.59l7.72-7.72 1.47 1.35L5.41 20z\"/>\n",
              "  </svg>\n",
              "      </button>\n",
              "      \n",
              "  <style>\n",
              "    .colab-df-container {\n",
              "      display:flex;\n",
              "      flex-wrap:wrap;\n",
              "      gap: 12px;\n",
              "    }\n",
              "\n",
              "    .colab-df-convert {\n",
              "      background-color: #E8F0FE;\n",
              "      border: none;\n",
              "      border-radius: 50%;\n",
              "      cursor: pointer;\n",
              "      display: none;\n",
              "      fill: #1967D2;\n",
              "      height: 32px;\n",
              "      padding: 0 0 0 0;\n",
              "      width: 32px;\n",
              "    }\n",
              "\n",
              "    .colab-df-convert:hover {\n",
              "      background-color: #E2EBFA;\n",
              "      box-shadow: 0px 1px 2px rgba(60, 64, 67, 0.3), 0px 1px 3px 1px rgba(60, 64, 67, 0.15);\n",
              "      fill: #174EA6;\n",
              "    }\n",
              "\n",
              "    [theme=dark] .colab-df-convert {\n",
              "      background-color: #3B4455;\n",
              "      fill: #D2E3FC;\n",
              "    }\n",
              "\n",
              "    [theme=dark] .colab-df-convert:hover {\n",
              "      background-color: #434B5C;\n",
              "      box-shadow: 0px 1px 3px 1px rgba(0, 0, 0, 0.15);\n",
              "      filter: drop-shadow(0px 1px 2px rgba(0, 0, 0, 0.3));\n",
              "      fill: #FFFFFF;\n",
              "    }\n",
              "  </style>\n",
              "\n",
              "      <script>\n",
              "        const buttonEl =\n",
              "          document.querySelector('#df-b2f0bf17-5302-4b6b-ad66-fe6d3744a7bf button.colab-df-convert');\n",
              "        buttonEl.style.display =\n",
              "          google.colab.kernel.accessAllowed ? 'block' : 'none';\n",
              "\n",
              "        async function convertToInteractive(key) {\n",
              "          const element = document.querySelector('#df-b2f0bf17-5302-4b6b-ad66-fe6d3744a7bf');\n",
              "          const dataTable =\n",
              "            await google.colab.kernel.invokeFunction('convertToInteractive',\n",
              "                                                     [key], {});\n",
              "          if (!dataTable) return;\n",
              "\n",
              "          const docLinkHtml = 'Like what you see? Visit the ' +\n",
              "            '<a target=\"_blank\" href=https://colab.research.google.com/notebooks/data_table.ipynb>data table notebook</a>'\n",
              "            + ' to learn more about interactive tables.';\n",
              "          element.innerHTML = '';\n",
              "          dataTable['output_type'] = 'display_data';\n",
              "          await google.colab.output.renderOutput(dataTable, element);\n",
              "          const docLink = document.createElement('div');\n",
              "          docLink.innerHTML = docLinkHtml;\n",
              "          element.appendChild(docLink);\n",
              "        }\n",
              "      </script>\n",
              "    </div>\n",
              "  </div>\n",
              "  "
            ]
          },
          "metadata": {},
          "execution_count": 269
        }
      ]
    },
    {
      "cell_type": "markdown",
      "source": [
        "<h2>Parte 3: testando modelos de Machine Learning</h2>"
      ],
      "metadata": {
        "id": "noQQUUtcYi6t"
      }
    },
    {
      "cell_type": "markdown",
      "source": [
        "#### Modelos possiveis de se utilizar para tarefa de previsão de vendas\n",
        "\n",
        "- [x] [Regressão Linear](https://medium.com/@lauradamaceno/regressão-linear-6a7f247c3e29) é um algoritmo supervisionado de machine learning usado para estimar o valor de algo baseado em uma série de outros dados históricos, portanto olhando para o passado você pode “prever” o futuro.\n",
        "- [x] [Random Forest](https://icmcjunior.com.br/random-forest/#:~:text=O%20que%20é%20Random%20Forest,para%20chegar%20no%20resultado%20final.) Resumidamente, o algoritmo cria de forma aleatória várias Árvores de Decisão (Decision Trees) e combina o resultado de todas elas para chegar no resultado final.\n",
        "- [x] [LSTM (Long Short-Term Memory)](https://medium.com/@web2ajax/redes-neurais-recorrentes-lstm-b90b720dc3f6) são um tipo especial de RNN, capaz de aprender dependências de longo prazo.\n",
        "- [ ] [SARIMA (Seasonal Autoregressive Integrated Moving Average) ](https://en.wikipedia.org/wiki/Autoregressive_integrated_moving_average)"
      ],
      "metadata": {
        "id": "hP4nRxSZRY5b"
      }
    },
    {
      "cell_type": "markdown",
      "metadata": {
        "id": "AGfugJnBcX7g"
      },
      "source": [
        "#### Regressão linear\n"
      ]
    },
    {
      "cell_type": "code",
      "source": [
        "# Copiando o dataset\n",
        "reg_lin = dataset.copy()\n",
        "\n",
        "# Definindo o target (vendas) e as features (dia da semana, semana do ano, dia do mês)\n",
        "target = reg_lin[\"Vendas\"]\n",
        "features = reg_lin[[\"dia_semana\", \"semana_ano\", \"dia_mes\"]]\n",
        "\n",
        "# Separando os dados em treinamento e teste\n",
        "X_train, X_test, y_train, y_test = train_test_split(features, target, test_size=0.15, random_state=1)\n",
        "\n",
        "# Carregando o modelo de regressão linear\n",
        "reg = LinearRegression()\n",
        "\n",
        "# Treinando o modelo com os dados de treinamento\n",
        "reg.fit(X_train.values, y_train.values)\n",
        "y_pred = reg.predict(X_test.values)\n",
        "\n",
        "# calcula o erro absoluto\n",
        "mae = mean_absolute_error(y_test, y_pred)\n",
        "\n",
        "accuracy_reg_lin = 100 - (mae / y_test.mean()) * 100\n",
        "print(\"Acurácia: {:.2f}%\".format(accuracy_reg_lin))"
      ],
      "metadata": {
        "colab": {
          "base_uri": "https://localhost:8080/"
        },
        "id": "fQEynJ1a5VxS",
        "outputId": "d02d767c-5808-49f7-ce96-93c68d5f9fe8"
      },
      "execution_count": 270,
      "outputs": [
        {
          "output_type": "stream",
          "name": "stdout",
          "text": [
            "Acurácia: 71.83%\n"
          ]
        }
      ]
    },
    {
      "cell_type": "code",
      "source": [
        "next_5_days = np.array([[i % 7, (i // 7) + last_day.weekofyear, i + last_day.day] for i in range(5)])\n",
        "next_5_days_pred = reg.predict(next_5_days)\n",
        "print(\"Previsão das vendas nos proximos 5 dias: \", end='')\n",
        "for day in next_5_days_pred:\n",
        "  print(int(day), end=', ')"
      ],
      "metadata": {
        "colab": {
          "base_uri": "https://localhost:8080/"
        },
        "id": "D9YX2PhQcZz8",
        "outputId": "25416db3-b10d-4241-c4b5-a89af0054ff0"
      },
      "execution_count": 271,
      "outputs": [
        {
          "output_type": "stream",
          "name": "stdout",
          "text": [
            "Previsão das vendas nos proximos 5 dias: 1303, 1149, 994, 840, 686, "
          ]
        }
      ]
    },
    {
      "cell_type": "code",
      "source": [
        "reg_lin = update_dataframe(reg_lin, next_5_days_pred.astype(int))\n",
        "reg_lin.tail(7)"
      ],
      "metadata": {
        "colab": {
          "base_uri": "https://localhost:8080/",
          "height": 269
        },
        "id": "46GkQgz7Kl2e",
        "outputId": "a731ad37-7789-4ff5-dc95-675c392704e2"
      },
      "execution_count": 272,
      "outputs": [
        {
          "output_type": "execute_result",
          "data": {
            "text/plain": [
              "         Data  Vendas  dia_semana semana_ano  dia_mes\n",
              "44 2023-01-19    1405           3          3       19\n",
              "45 2023-01-20     945           4          3       20\n",
              "46 2023-01-21    1303           6         03       21\n",
              "47 2023-01-22    1149           0         04       22\n",
              "48 2023-01-23     994           1         04       23\n",
              "49 2023-01-24     840           2         04       24\n",
              "50 2023-01-25     686           3         04       25"
            ],
            "text/html": [
              "\n",
              "  <div id=\"df-11211000-e024-4922-9bc3-801c4d92d2c8\">\n",
              "    <div class=\"colab-df-container\">\n",
              "      <div>\n",
              "<style scoped>\n",
              "    .dataframe tbody tr th:only-of-type {\n",
              "        vertical-align: middle;\n",
              "    }\n",
              "\n",
              "    .dataframe tbody tr th {\n",
              "        vertical-align: top;\n",
              "    }\n",
              "\n",
              "    .dataframe thead th {\n",
              "        text-align: right;\n",
              "    }\n",
              "</style>\n",
              "<table border=\"1\" class=\"dataframe\">\n",
              "  <thead>\n",
              "    <tr style=\"text-align: right;\">\n",
              "      <th></th>\n",
              "      <th>Data</th>\n",
              "      <th>Vendas</th>\n",
              "      <th>dia_semana</th>\n",
              "      <th>semana_ano</th>\n",
              "      <th>dia_mes</th>\n",
              "    </tr>\n",
              "  </thead>\n",
              "  <tbody>\n",
              "    <tr>\n",
              "      <th>44</th>\n",
              "      <td>2023-01-19</td>\n",
              "      <td>1405</td>\n",
              "      <td>3</td>\n",
              "      <td>3</td>\n",
              "      <td>19</td>\n",
              "    </tr>\n",
              "    <tr>\n",
              "      <th>45</th>\n",
              "      <td>2023-01-20</td>\n",
              "      <td>945</td>\n",
              "      <td>4</td>\n",
              "      <td>3</td>\n",
              "      <td>20</td>\n",
              "    </tr>\n",
              "    <tr>\n",
              "      <th>46</th>\n",
              "      <td>2023-01-21</td>\n",
              "      <td>1303</td>\n",
              "      <td>6</td>\n",
              "      <td>03</td>\n",
              "      <td>21</td>\n",
              "    </tr>\n",
              "    <tr>\n",
              "      <th>47</th>\n",
              "      <td>2023-01-22</td>\n",
              "      <td>1149</td>\n",
              "      <td>0</td>\n",
              "      <td>04</td>\n",
              "      <td>22</td>\n",
              "    </tr>\n",
              "    <tr>\n",
              "      <th>48</th>\n",
              "      <td>2023-01-23</td>\n",
              "      <td>994</td>\n",
              "      <td>1</td>\n",
              "      <td>04</td>\n",
              "      <td>23</td>\n",
              "    </tr>\n",
              "    <tr>\n",
              "      <th>49</th>\n",
              "      <td>2023-01-24</td>\n",
              "      <td>840</td>\n",
              "      <td>2</td>\n",
              "      <td>04</td>\n",
              "      <td>24</td>\n",
              "    </tr>\n",
              "    <tr>\n",
              "      <th>50</th>\n",
              "      <td>2023-01-25</td>\n",
              "      <td>686</td>\n",
              "      <td>3</td>\n",
              "      <td>04</td>\n",
              "      <td>25</td>\n",
              "    </tr>\n",
              "  </tbody>\n",
              "</table>\n",
              "</div>\n",
              "      <button class=\"colab-df-convert\" onclick=\"convertToInteractive('df-11211000-e024-4922-9bc3-801c4d92d2c8')\"\n",
              "              title=\"Convert this dataframe to an interactive table.\"\n",
              "              style=\"display:none;\">\n",
              "        \n",
              "  <svg xmlns=\"http://www.w3.org/2000/svg\" height=\"24px\"viewBox=\"0 0 24 24\"\n",
              "       width=\"24px\">\n",
              "    <path d=\"M0 0h24v24H0V0z\" fill=\"none\"/>\n",
              "    <path d=\"M18.56 5.44l.94 2.06.94-2.06 2.06-.94-2.06-.94-.94-2.06-.94 2.06-2.06.94zm-11 1L8.5 8.5l.94-2.06 2.06-.94-2.06-.94L8.5 2.5l-.94 2.06-2.06.94zm10 10l.94 2.06.94-2.06 2.06-.94-2.06-.94-.94-2.06-.94 2.06-2.06.94z\"/><path d=\"M17.41 7.96l-1.37-1.37c-.4-.4-.92-.59-1.43-.59-.52 0-1.04.2-1.43.59L10.3 9.45l-7.72 7.72c-.78.78-.78 2.05 0 2.83L4 21.41c.39.39.9.59 1.41.59.51 0 1.02-.2 1.41-.59l7.78-7.78 2.81-2.81c.8-.78.8-2.07 0-2.86zM5.41 20L4 18.59l7.72-7.72 1.47 1.35L5.41 20z\"/>\n",
              "  </svg>\n",
              "      </button>\n",
              "      \n",
              "  <style>\n",
              "    .colab-df-container {\n",
              "      display:flex;\n",
              "      flex-wrap:wrap;\n",
              "      gap: 12px;\n",
              "    }\n",
              "\n",
              "    .colab-df-convert {\n",
              "      background-color: #E8F0FE;\n",
              "      border: none;\n",
              "      border-radius: 50%;\n",
              "      cursor: pointer;\n",
              "      display: none;\n",
              "      fill: #1967D2;\n",
              "      height: 32px;\n",
              "      padding: 0 0 0 0;\n",
              "      width: 32px;\n",
              "    }\n",
              "\n",
              "    .colab-df-convert:hover {\n",
              "      background-color: #E2EBFA;\n",
              "      box-shadow: 0px 1px 2px rgba(60, 64, 67, 0.3), 0px 1px 3px 1px rgba(60, 64, 67, 0.15);\n",
              "      fill: #174EA6;\n",
              "    }\n",
              "\n",
              "    [theme=dark] .colab-df-convert {\n",
              "      background-color: #3B4455;\n",
              "      fill: #D2E3FC;\n",
              "    }\n",
              "\n",
              "    [theme=dark] .colab-df-convert:hover {\n",
              "      background-color: #434B5C;\n",
              "      box-shadow: 0px 1px 3px 1px rgba(0, 0, 0, 0.15);\n",
              "      filter: drop-shadow(0px 1px 2px rgba(0, 0, 0, 0.3));\n",
              "      fill: #FFFFFF;\n",
              "    }\n",
              "  </style>\n",
              "\n",
              "      <script>\n",
              "        const buttonEl =\n",
              "          document.querySelector('#df-11211000-e024-4922-9bc3-801c4d92d2c8 button.colab-df-convert');\n",
              "        buttonEl.style.display =\n",
              "          google.colab.kernel.accessAllowed ? 'block' : 'none';\n",
              "\n",
              "        async function convertToInteractive(key) {\n",
              "          const element = document.querySelector('#df-11211000-e024-4922-9bc3-801c4d92d2c8');\n",
              "          const dataTable =\n",
              "            await google.colab.kernel.invokeFunction('convertToInteractive',\n",
              "                                                     [key], {});\n",
              "          if (!dataTable) return;\n",
              "\n",
              "          const docLinkHtml = 'Like what you see? Visit the ' +\n",
              "            '<a target=\"_blank\" href=https://colab.research.google.com/notebooks/data_table.ipynb>data table notebook</a>'\n",
              "            + ' to learn more about interactive tables.';\n",
              "          element.innerHTML = '';\n",
              "          dataTable['output_type'] = 'display_data';\n",
              "          await google.colab.output.renderOutput(dataTable, element);\n",
              "          const docLink = document.createElement('div');\n",
              "          docLink.innerHTML = docLinkHtml;\n",
              "          element.appendChild(docLink);\n",
              "        }\n",
              "      </script>\n",
              "    </div>\n",
              "  </div>\n",
              "  "
            ]
          },
          "metadata": {},
          "execution_count": 272
        }
      ]
    },
    {
      "cell_type": "markdown",
      "source": [
        "*PS: da linha 46 até a 50 é a previsão de vendas, o dataset original só possui 45 linhas*"
      ],
      "metadata": {
        "id": "sUCGKc8pe9t0"
      }
    },
    {
      "cell_type": "code",
      "source": [
        "show_plot(reg_lin, timestamp=reg_lin['Data'].iloc[-6])"
      ],
      "metadata": {
        "colab": {
          "base_uri": "https://localhost:8080/",
          "height": 298
        },
        "id": "AF0_rCjYKbw6",
        "outputId": "24944c5c-4d6c-4264-d840-b7829cf859c9"
      },
      "execution_count": 273,
      "outputs": [
        {
          "output_type": "display_data",
          "data": {
            "text/plain": [
              "<Figure size 432x288 with 1 Axes>"
            ],
            "image/png": "[encoded data removed]"
          },
          "metadata": {
            "needs_background": "light"
          }
        }
      ]
    },
    {
      "cell_type": "markdown",
      "metadata": {
        "id": "WXlRU-6NONrP"
      },
      "source": [
        "#### Random Forest\n"
      ]
    },
    {
      "cell_type": "code",
      "source": [
        "# Copiando o dataset\n",
        "reg_rf = dataset.copy()\n",
        "\n",
        "# Definindo o target (vendas) e as features (dia da semana, semana do ano, dia do mês)\n",
        "target = reg_rf[\"Vendas\"]\n",
        "features = reg_rf[[\"dia_semana\", \"semana_ano\", \"dia_mes\"]]\n",
        "\n",
        "# Separando os dados em treinamento e teste\n",
        "X_train, X_test, y_train, y_test = train_test_split(features, target, test_size=0.15, random_state=6)\n",
        "\n",
        "# Carregando o modelo de random forest\n",
        "reg = RandomForestRegressor(n_estimators=100, random_state=6)\n",
        "\n",
        "# Treinando o modelo com os dados de treinamento\n",
        "reg.fit(X_train.values, y_train.values)\n",
        "y_pred = reg.predict(X_test.values)\n",
        "\n",
        "# calcula o erro absoluto\n",
        "mae = mean_absolute_error(y_test, y_pred)\n",
        "accuracy_reg_rf = 100 - (mae / y_test.mean()) * 100\n",
        "print(\"Acurácia: {:.2f}%\".format(accuracy_reg_rf))"
      ],
      "metadata": {
        "id": "LgcI2M71Vy0G",
        "colab": {
          "base_uri": "https://localhost:8080/"
        },
        "outputId": "13e6ed59-5bf9-4782-baa2-c6a0f32defb3"
      },
      "execution_count": 274,
      "outputs": [
        {
          "output_type": "stream",
          "name": "stdout",
          "text": [
            "Acurácia: 86.91%\n"
          ]
        }
      ]
    },
    {
      "cell_type": "code",
      "source": [
        "next_5_days = np.array([[i % 7, (i // 7) + last_day.weekofyear, i + last_day.day] for i in range(5)])\n",
        "next_5_days_pred = reg.predict(next_5_days)\n",
        "print(\"Previsão das vendas nos proximos 5 dias: \", end='')\n",
        "for day in next_5_days_pred:\n",
        "  print(int(day), end=', ')"
      ],
      "metadata": {
        "colab": {
          "base_uri": "https://localhost:8080/"
        },
        "id": "_tQVv65QgXGk",
        "outputId": "3d0469b3-e479-4a36-8665-8a61a606f3da"
      },
      "execution_count": 275,
      "outputs": [
        {
          "output_type": "stream",
          "name": "stdout",
          "text": [
            "Previsão das vendas nos proximos 5 dias: 1217, 1000, 1007, 1089, 587, "
          ]
        }
      ]
    },
    {
      "cell_type": "code",
      "source": [
        "reg_rf = update_dataframe(reg_rf, next_5_days_pred.astype(int))\n",
        "reg_rf.tail(7)"
      ],
      "metadata": {
        "colab": {
          "base_uri": "https://localhost:8080/",
          "height": 269
        },
        "id": "Em9yv24Rgq9S",
        "outputId": "fe95598c-6fa5-4dd7-f786-feec84439678"
      },
      "execution_count": 276,
      "outputs": [
        {
          "output_type": "execute_result",
          "data": {
            "text/plain": [
              "         Data  Vendas  dia_semana semana_ano  dia_mes\n",
              "44 2023-01-19    1405           3          3       19\n",
              "45 2023-01-20     945           4          3       20\n",
              "46 2023-01-21    1217           6         03       21\n",
              "47 2023-01-22    1000           0         04       22\n",
              "48 2023-01-23    1007           1         04       23\n",
              "49 2023-01-24    1089           2         04       24\n",
              "50 2023-01-25     587           3         04       25"
            ],
            "text/html": [
              "\n",
              "  <div id=\"df-7e9854d2-7941-4eb4-96a1-bd33e1d22ba3\">\n",
              "    <div class=\"colab-df-container\">\n",
              "      <div>\n",
              "<style scoped>\n",
              "    .dataframe tbody tr th:only-of-type {\n",
              "        vertical-align: middle;\n",
              "    }\n",
              "\n",
              "    .dataframe tbody tr th {\n",
              "        vertical-align: top;\n",
              "    }\n",
              "\n",
              "    .dataframe thead th {\n",
              "        text-align: right;\n",
              "    }\n",
              "</style>\n",
              "<table border=\"1\" class=\"dataframe\">\n",
              "  <thead>\n",
              "    <tr style=\"text-align: right;\">\n",
              "      <th></th>\n",
              "      <th>Data</th>\n",
              "      <th>Vendas</th>\n",
              "      <th>dia_semana</th>\n",
              "      <th>semana_ano</th>\n",
              "      <th>dia_mes</th>\n",
              "    </tr>\n",
              "  </thead>\n",
              "  <tbody>\n",
              "    <tr>\n",
              "      <th>44</th>\n",
              "      <td>2023-01-19</td>\n",
              "      <td>1405</td>\n",
              "      <td>3</td>\n",
              "      <td>3</td>\n",
              "      <td>19</td>\n",
              "    </tr>\n",
              "    <tr>\n",
              "      <th>45</th>\n",
              "      <td>2023-01-20</td>\n",
              "      <td>945</td>\n",
              "      <td>4</td>\n",
              "      <td>3</td>\n",
              "      <td>20</td>\n",
              "    </tr>\n",
              "    <tr>\n",
              "      <th>46</th>\n",
              "      <td>2023-01-21</td>\n",
              "      <td>1217</td>\n",
              "      <td>6</td>\n",
              "      <td>03</td>\n",
              "      <td>21</td>\n",
              "    </tr>\n",
              "    <tr>\n",
              "      <th>47</th>\n",
              "      <td>2023-01-22</td>\n",
              "      <td>1000</td>\n",
              "      <td>0</td>\n",
              "      <td>04</td>\n",
              "      <td>22</td>\n",
              "    </tr>\n",
              "    <tr>\n",
              "      <th>48</th>\n",
              "      <td>2023-01-23</td>\n",
              "      <td>1007</td>\n",
              "      <td>1</td>\n",
              "      <td>04</td>\n",
              "      <td>23</td>\n",
              "    </tr>\n",
              "    <tr>\n",
              "      <th>49</th>\n",
              "      <td>2023-01-24</td>\n",
              "      <td>1089</td>\n",
              "      <td>2</td>\n",
              "      <td>04</td>\n",
              "      <td>24</td>\n",
              "    </tr>\n",
              "    <tr>\n",
              "      <th>50</th>\n",
              "      <td>2023-01-25</td>\n",
              "      <td>587</td>\n",
              "      <td>3</td>\n",
              "      <td>04</td>\n",
              "      <td>25</td>\n",
              "    </tr>\n",
              "  </tbody>\n",
              "</table>\n",
              "</div>\n",
              "      <button class=\"colab-df-convert\" onclick=\"convertToInteractive('df-7e9854d2-7941-4eb4-96a1-bd33e1d22ba3')\"\n",
              "              title=\"Convert this dataframe to an interactive table.\"\n",
              "              style=\"display:none;\">\n",
              "        \n",
              "  <svg xmlns=\"http://www.w3.org/2000/svg\" height=\"24px\"viewBox=\"0 0 24 24\"\n",
              "       width=\"24px\">\n",
              "    <path d=\"M0 0h24v24H0V0z\" fill=\"none\"/>\n",
              "    <path d=\"M18.56 5.44l.94 2.06.94-2.06 2.06-.94-2.06-.94-.94-2.06-.94 2.06-2.06.94zm-11 1L8.5 8.5l.94-2.06 2.06-.94-2.06-.94L8.5 2.5l-.94 2.06-2.06.94zm10 10l.94 2.06.94-2.06 2.06-.94-2.06-.94-.94-2.06-.94 2.06-2.06.94z\"/><path d=\"M17.41 7.96l-1.37-1.37c-.4-.4-.92-.59-1.43-.59-.52 0-1.04.2-1.43.59L10.3 9.45l-7.72 7.72c-.78.78-.78 2.05 0 2.83L4 21.41c.39.39.9.59 1.41.59.51 0 1.02-.2 1.41-.59l7.78-7.78 2.81-2.81c.8-.78.8-2.07 0-2.86zM5.41 20L4 18.59l7.72-7.72 1.47 1.35L5.41 20z\"/>\n",
              "  </svg>\n",
              "      </button>\n",
              "      \n",
              "  <style>\n",
              "    .colab-df-container {\n",
              "      display:flex;\n",
              "      flex-wrap:wrap;\n",
              "      gap: 12px;\n",
              "    }\n",
              "\n",
              "    .colab-df-convert {\n",
              "      background-color: #E8F0FE;\n",
              "      border: none;\n",
              "      border-radius: 50%;\n",
              "      cursor: pointer;\n",
              "      display: none;\n",
              "      fill: #1967D2;\n",
              "      height: 32px;\n",
              "      padding: 0 0 0 0;\n",
              "      width: 32px;\n",
              "    }\n",
              "\n",
              "    .colab-df-convert:hover {\n",
              "      background-color: #E2EBFA;\n",
              "      box-shadow: 0px 1px 2px rgba(60, 64, 67, 0.3), 0px 1px 3px 1px rgba(60, 64, 67, 0.15);\n",
              "      fill: #174EA6;\n",
              "    }\n",
              "\n",
              "    [theme=dark] .colab-df-convert {\n",
              "      background-color: #3B4455;\n",
              "      fill: #D2E3FC;\n",
              "    }\n",
              "\n",
              "    [theme=dark] .colab-df-convert:hover {\n",
              "      background-color: #434B5C;\n",
              "      box-shadow: 0px 1px 3px 1px rgba(0, 0, 0, 0.15);\n",
              "      filter: drop-shadow(0px 1px 2px rgba(0, 0, 0, 0.3));\n",
              "      fill: #FFFFFF;\n",
              "    }\n",
              "  </style>\n",
              "\n",
              "      <script>\n",
              "        const buttonEl =\n",
              "          document.querySelector('#df-7e9854d2-7941-4eb4-96a1-bd33e1d22ba3 button.colab-df-convert');\n",
              "        buttonEl.style.display =\n",
              "          google.colab.kernel.accessAllowed ? 'block' : 'none';\n",
              "\n",
              "        async function convertToInteractive(key) {\n",
              "          const element = document.querySelector('#df-7e9854d2-7941-4eb4-96a1-bd33e1d22ba3');\n",
              "          const dataTable =\n",
              "            await google.colab.kernel.invokeFunction('convertToInteractive',\n",
              "                                                     [key], {});\n",
              "          if (!dataTable) return;\n",
              "\n",
              "          const docLinkHtml = 'Like what you see? Visit the ' +\n",
              "            '<a target=\"_blank\" href=https://colab.research.google.com/notebooks/data_table.ipynb>data table notebook</a>'\n",
              "            + ' to learn more about interactive tables.';\n",
              "          element.innerHTML = '';\n",
              "          dataTable['output_type'] = 'display_data';\n",
              "          await google.colab.output.renderOutput(dataTable, element);\n",
              "          const docLink = document.createElement('div');\n",
              "          docLink.innerHTML = docLinkHtml;\n",
              "          element.appendChild(docLink);\n",
              "        }\n",
              "      </script>\n",
              "    </div>\n",
              "  </div>\n",
              "  "
            ]
          },
          "metadata": {},
          "execution_count": 276
        }
      ]
    },
    {
      "cell_type": "markdown",
      "source": [
        "*PS: da linha 46 até a 50 é a previsão de vendas, o dataset original só possui 45 linhas*"
      ],
      "metadata": {
        "id": "WSYUGOcdgx6_"
      }
    },
    {
      "cell_type": "code",
      "source": [
        "show_plot(reg_rf, timestamp=reg_rf['Data'].iloc[-6])"
      ],
      "metadata": {
        "colab": {
          "base_uri": "https://localhost:8080/",
          "height": 298
        },
        "id": "DO-7e3-Qg0-r",
        "outputId": "9acfb72c-f8e3-4f78-e2e2-8c379d981d5f"
      },
      "execution_count": 277,
      "outputs": [
        {
          "output_type": "display_data",
          "data": {
            "text/plain": [
              "<Figure size 432x288 with 1 Axes>"
            ],
            "image/png": "[encoded data removed]"
          },
          "metadata": {
            "needs_background": "light"
          }
        }
      ]
    },
    {
      "cell_type": "markdown",
      "metadata": {
        "id": "2B7DVfdR7Nwd"
      },
      "source": [
        "#### LSTM (Long Short-Term Memory)\n"
      ]
    },
    {
      "cell_type": "code",
      "source": [
        "# Copiando o dataset\n",
        "lstm = dataset[['Data', 'Vendas']].copy()\n",
        "#lstm.set_index('Data', inplace=True)\n",
        "\n",
        "# normalize data\n",
        "scaler = MinMaxScaler(feature_range=(0, 1))\n",
        "lstm['Vendas'] = scaler.fit_transform(lstm['Vendas'].values.reshape(-1, 1))\n",
        "\n",
        "# split data\n",
        "train, test = train_test_split(lstm, train_size=0.85, shuffle=False)\n",
        "\n",
        "# create dataset\n",
        "def create_dataset(dataset, look_back=1):\n",
        "  dataX, dataY = [], []\n",
        "  for i in range(len(dataset)-look_back-1):\n",
        "    a = dataset[i:(i+look_back), 0]\n",
        "    dataX.append(a)\n",
        "    dataY.append(dataset[i + look_back, 0])\n",
        "  return np.array(dataX), np.array(dataY)\n",
        "\n",
        "# Look back setado em 5 por ser +- o ciclo das vendas em dias\n",
        "look_back = 5\n",
        "trainX, trainY = create_dataset(train['Vendas'].values.reshape(-1, 1), look_back)\n",
        "testX, testY = create_dataset(test['Vendas'].values.reshape(-1, 1), look_back)\n",
        "\n",
        "# como LSTM é um modelo temporal, é necessario lidar com o tempo, ou seja, isso \n",
        "# adiciona uma nova dimensão a nossa matriz (2d) transformando ela em um tensor (3d)  \n",
        "trainX = np.reshape(trainX, (trainX.shape[0], 1, trainX.shape[1]))\n",
        "testX = np.reshape(testX, (testX.shape[0], 1, testX.shape[1]))\n",
        "\n",
        "# create and fit the LSTM network\n",
        "model = Sequential()\n",
        "model.add(LSTM(5, input_shape=(1, look_back)))\n",
        "model.add(Dense(1)) # ReLU\n",
        "model.compile(loss='mean_squared_error', optimizer='adam')\n",
        "model.fit(trainX, trainY, epochs=100, batch_size=2, verbose=2)\n",
        "\n",
        "# predições (train e teste pra avaliar se está havendo overlifiting)\n",
        "trainPredict = model.predict(trainX)\n",
        "testPredict = model.predict(testX)\n",
        "\n",
        "# inverte predições\n",
        "trainPredict = scaler.inverse_transform(trainPredict)\n",
        "trainY = scaler.inverse_transform([trainY])\n",
        "testPredict = scaler.inverse_transform(testPredict)\n",
        "testY = scaler.inverse_transform([testY])"
      ],
      "metadata": {
        "id": "EY6ymARZYqOG",
        "colab": {
          "base_uri": "https://localhost:8080/"
        },
        "outputId": "d001bde2-bf68-496d-c5fb-07c3cc673e27"
      },
      "execution_count": 284,
      "outputs": [
        {
          "output_type": "stream",
          "name": "stdout",
          "text": [
            "Epoch 1/100\n",
            "17/17 - 2s - loss: 0.2518 - 2s/epoch - 113ms/step\n",
            "Epoch 2/100\n",
            "17/17 - 0s - loss: 0.2208 - 37ms/epoch - 2ms/step\n",
            "Epoch 3/100\n",
            "17/17 - 0s - loss: 0.1943 - 37ms/epoch - 2ms/step\n",
            "Epoch 4/100\n",
            "17/17 - 0s - loss: 0.1726 - 35ms/epoch - 2ms/step\n",
            "Epoch 5/100\n",
            "17/17 - 0s - loss: 0.1518 - 36ms/epoch - 2ms/step\n",
            "Epoch 6/100\n",
            "17/17 - 0s - loss: 0.1336 - 38ms/epoch - 2ms/step\n",
            "Epoch 7/100\n",
            "17/17 - 0s - loss: 0.1187 - 37ms/epoch - 2ms/step\n",
            "Epoch 8/100\n",
            "17/17 - 0s - loss: 0.1055 - 35ms/epoch - 2ms/step\n",
            "Epoch 9/100\n",
            "17/17 - 0s - loss: 0.0940 - 38ms/epoch - 2ms/step\n",
            "Epoch 10/100\n",
            "17/17 - 0s - loss: 0.0850 - 38ms/epoch - 2ms/step\n",
            "Epoch 11/100\n",
            "17/17 - 0s - loss: 0.0764 - 46ms/epoch - 3ms/step\n",
            "Epoch 12/100\n",
            "17/17 - 0s - loss: 0.0708 - 37ms/epoch - 2ms/step\n",
            "Epoch 13/100\n",
            "17/17 - 0s - loss: 0.0656 - 35ms/epoch - 2ms/step\n",
            "Epoch 14/100\n",
            "17/17 - 0s - loss: 0.0628 - 36ms/epoch - 2ms/step\n",
            "Epoch 15/100\n",
            "17/17 - 0s - loss: 0.0601 - 35ms/epoch - 2ms/step\n",
            "Epoch 16/100\n",
            "17/17 - 0s - loss: 0.0589 - 37ms/epoch - 2ms/step\n",
            "Epoch 17/100\n",
            "17/17 - 0s - loss: 0.0577 - 37ms/epoch - 2ms/step\n",
            "Epoch 18/100\n",
            "17/17 - 0s - loss: 0.0572 - 43ms/epoch - 3ms/step\n",
            "Epoch 19/100\n",
            "17/17 - 0s - loss: 0.0569 - 38ms/epoch - 2ms/step\n",
            "Epoch 20/100\n",
            "17/17 - 0s - loss: 0.0562 - 35ms/epoch - 2ms/step\n",
            "Epoch 21/100\n",
            "17/17 - 0s - loss: 0.0560 - 39ms/epoch - 2ms/step\n",
            "Epoch 22/100\n",
            "17/17 - 0s - loss: 0.0560 - 36ms/epoch - 2ms/step\n",
            "Epoch 23/100\n",
            "17/17 - 0s - loss: 0.0555 - 38ms/epoch - 2ms/step\n",
            "Epoch 24/100\n",
            "17/17 - 0s - loss: 0.0553 - 35ms/epoch - 2ms/step\n",
            "Epoch 25/100\n",
            "17/17 - 0s - loss: 0.0553 - 35ms/epoch - 2ms/step\n",
            "Epoch 26/100\n",
            "17/17 - 0s - loss: 0.0555 - 55ms/epoch - 3ms/step\n",
            "Epoch 27/100\n",
            "17/17 - 0s - loss: 0.0547 - 37ms/epoch - 2ms/step\n",
            "Epoch 28/100\n",
            "17/17 - 0s - loss: 0.0547 - 38ms/epoch - 2ms/step\n",
            "Epoch 29/100\n",
            "17/17 - 0s - loss: 0.0543 - 39ms/epoch - 2ms/step\n",
            "Epoch 30/100\n",
            "17/17 - 0s - loss: 0.0541 - 37ms/epoch - 2ms/step\n",
            "Epoch 31/100\n",
            "17/17 - 0s - loss: 0.0540 - 35ms/epoch - 2ms/step\n",
            "Epoch 32/100\n",
            "17/17 - 0s - loss: 0.0540 - 36ms/epoch - 2ms/step\n",
            "Epoch 33/100\n",
            "17/17 - 0s - loss: 0.0539 - 44ms/epoch - 3ms/step\n",
            "Epoch 34/100\n",
            "17/17 - 0s - loss: 0.0533 - 36ms/epoch - 2ms/step\n",
            "Epoch 35/100\n",
            "17/17 - 0s - loss: 0.0533 - 36ms/epoch - 2ms/step\n",
            "Epoch 36/100\n",
            "17/17 - 0s - loss: 0.0529 - 38ms/epoch - 2ms/step\n",
            "Epoch 37/100\n",
            "17/17 - 0s - loss: 0.0529 - 38ms/epoch - 2ms/step\n",
            "Epoch 38/100\n",
            "17/17 - 0s - loss: 0.0526 - 37ms/epoch - 2ms/step\n",
            "Epoch 39/100\n",
            "17/17 - 0s - loss: 0.0524 - 37ms/epoch - 2ms/step\n",
            "Epoch 40/100\n",
            "17/17 - 0s - loss: 0.0522 - 35ms/epoch - 2ms/step\n",
            "Epoch 41/100\n",
            "17/17 - 0s - loss: 0.0520 - 48ms/epoch - 3ms/step\n",
            "Epoch 42/100\n",
            "17/17 - 0s - loss: 0.0521 - 41ms/epoch - 2ms/step\n",
            "Epoch 43/100\n",
            "17/17 - 0s - loss: 0.0517 - 41ms/epoch - 2ms/step\n",
            "Epoch 44/100\n",
            "17/17 - 0s - loss: 0.0516 - 35ms/epoch - 2ms/step\n",
            "Epoch 45/100\n",
            "17/17 - 0s - loss: 0.0515 - 35ms/epoch - 2ms/step\n",
            "Epoch 46/100\n",
            "17/17 - 0s - loss: 0.0514 - 37ms/epoch - 2ms/step\n",
            "Epoch 47/100\n",
            "17/17 - 0s - loss: 0.0509 - 41ms/epoch - 2ms/step\n",
            "Epoch 48/100\n",
            "17/17 - 0s - loss: 0.0511 - 42ms/epoch - 2ms/step\n",
            "Epoch 49/100\n",
            "17/17 - 0s - loss: 0.0508 - 35ms/epoch - 2ms/step\n",
            "Epoch 50/100\n",
            "17/17 - 0s - loss: 0.0506 - 46ms/epoch - 3ms/step\n",
            "Epoch 51/100\n",
            "17/17 - 0s - loss: 0.0504 - 35ms/epoch - 2ms/step\n",
            "Epoch 52/100\n",
            "17/17 - 0s - loss: 0.0502 - 35ms/epoch - 2ms/step\n",
            "Epoch 53/100\n",
            "17/17 - 0s - loss: 0.0501 - 36ms/epoch - 2ms/step\n",
            "Epoch 54/100\n",
            "17/17 - 0s - loss: 0.0506 - 35ms/epoch - 2ms/step\n",
            "Epoch 55/100\n",
            "17/17 - 0s - loss: 0.0500 - 43ms/epoch - 3ms/step\n",
            "Epoch 56/100\n",
            "17/17 - 0s - loss: 0.0498 - 38ms/epoch - 2ms/step\n",
            "Epoch 57/100\n",
            "17/17 - 0s - loss: 0.0496 - 37ms/epoch - 2ms/step\n",
            "Epoch 58/100\n",
            "17/17 - 0s - loss: 0.0496 - 37ms/epoch - 2ms/step\n",
            "Epoch 59/100\n",
            "17/17 - 0s - loss: 0.0494 - 38ms/epoch - 2ms/step\n",
            "Epoch 60/100\n",
            "17/17 - 0s - loss: 0.0494 - 43ms/epoch - 3ms/step\n",
            "Epoch 61/100\n",
            "17/17 - 0s - loss: 0.0495 - 43ms/epoch - 3ms/step\n",
            "Epoch 62/100\n",
            "17/17 - 0s - loss: 0.0492 - 39ms/epoch - 2ms/step\n",
            "Epoch 63/100\n",
            "17/17 - 0s - loss: 0.0491 - 42ms/epoch - 2ms/step\n",
            "Epoch 64/100\n",
            "17/17 - 0s - loss: 0.0490 - 40ms/epoch - 2ms/step\n",
            "Epoch 65/100\n",
            "17/17 - 0s - loss: 0.0490 - 37ms/epoch - 2ms/step\n",
            "Epoch 66/100\n",
            "17/17 - 0s - loss: 0.0489 - 38ms/epoch - 2ms/step\n",
            "Epoch 67/100\n",
            "17/17 - 0s - loss: 0.0487 - 47ms/epoch - 3ms/step\n",
            "Epoch 68/100\n",
            "17/17 - 0s - loss: 0.0485 - 37ms/epoch - 2ms/step\n",
            "Epoch 69/100\n",
            "17/17 - 0s - loss: 0.0485 - 59ms/epoch - 3ms/step\n",
            "Epoch 70/100\n",
            "17/17 - 0s - loss: 0.0484 - 41ms/epoch - 2ms/step\n",
            "Epoch 71/100\n",
            "17/17 - 0s - loss: 0.0487 - 39ms/epoch - 2ms/step\n",
            "Epoch 72/100\n",
            "17/17 - 0s - loss: 0.0483 - 38ms/epoch - 2ms/step\n",
            "Epoch 73/100\n",
            "17/17 - 0s - loss: 0.0482 - 45ms/epoch - 3ms/step\n",
            "Epoch 74/100\n",
            "17/17 - 0s - loss: 0.0482 - 36ms/epoch - 2ms/step\n",
            "Epoch 75/100\n",
            "17/17 - 0s - loss: 0.0481 - 39ms/epoch - 2ms/step\n",
            "Epoch 76/100\n",
            "17/17 - 0s - loss: 0.0481 - 42ms/epoch - 2ms/step\n",
            "Epoch 77/100\n",
            "17/17 - 0s - loss: 0.0488 - 41ms/epoch - 2ms/step\n",
            "Epoch 78/100\n",
            "17/17 - 0s - loss: 0.0482 - 37ms/epoch - 2ms/step\n",
            "Epoch 79/100\n",
            "17/17 - 0s - loss: 0.0481 - 37ms/epoch - 2ms/step\n",
            "Epoch 80/100\n",
            "17/17 - 0s - loss: 0.0479 - 39ms/epoch - 2ms/step\n",
            "Epoch 81/100\n",
            "17/17 - 0s - loss: 0.0477 - 37ms/epoch - 2ms/step\n",
            "Epoch 82/100\n",
            "17/17 - 0s - loss: 0.0477 - 37ms/epoch - 2ms/step\n",
            "Epoch 83/100\n",
            "17/17 - 0s - loss: 0.0478 - 49ms/epoch - 3ms/step\n",
            "Epoch 84/100\n",
            "17/17 - 0s - loss: 0.0475 - 37ms/epoch - 2ms/step\n",
            "Epoch 85/100\n",
            "17/17 - 0s - loss: 0.0477 - 37ms/epoch - 2ms/step\n",
            "Epoch 86/100\n",
            "17/17 - 0s - loss: 0.0476 - 45ms/epoch - 3ms/step\n",
            "Epoch 87/100\n",
            "17/17 - 0s - loss: 0.0475 - 39ms/epoch - 2ms/step\n",
            "Epoch 88/100\n",
            "17/17 - 0s - loss: 0.0473 - 40ms/epoch - 2ms/step\n",
            "Epoch 89/100\n",
            "17/17 - 0s - loss: 0.0479 - 46ms/epoch - 3ms/step\n",
            "Epoch 90/100\n",
            "17/17 - 0s - loss: 0.0474 - 42ms/epoch - 2ms/step\n",
            "Epoch 91/100\n",
            "17/17 - 0s - loss: 0.0471 - 40ms/epoch - 2ms/step\n",
            "Epoch 92/100\n",
            "17/17 - 0s - loss: 0.0473 - 37ms/epoch - 2ms/step\n",
            "Epoch 93/100\n",
            "17/17 - 0s - loss: 0.0470 - 39ms/epoch - 2ms/step\n",
            "Epoch 94/100\n",
            "17/17 - 0s - loss: 0.0471 - 37ms/epoch - 2ms/step\n",
            "Epoch 95/100\n",
            "17/17 - 0s - loss: 0.0470 - 38ms/epoch - 2ms/step\n",
            "Epoch 96/100\n",
            "17/17 - 0s - loss: 0.0470 - 47ms/epoch - 3ms/step\n",
            "Epoch 97/100\n",
            "17/17 - 0s - loss: 0.0471 - 46ms/epoch - 3ms/step\n",
            "Epoch 98/100\n",
            "17/17 - 0s - loss: 0.0478 - 37ms/epoch - 2ms/step\n",
            "Epoch 99/100\n",
            "17/17 - 0s - loss: 0.0467 - 40ms/epoch - 2ms/step\n",
            "Epoch 100/100\n",
            "17/17 - 0s - loss: 0.0470 - 36ms/epoch - 2ms/step\n",
            "2/2 [==============================] - 0s 7ms/step\n",
            "1/1 [==============================] - 0s 20ms/step\n"
          ]
        }
      ]
    },
    {
      "cell_type": "code",
      "source": [
        "# calculate root mean squared error\n",
        "trainScore = mean_absolute_error(trainY[0], trainPredict[:,0])\n",
        "print('Train Score: %.2f MAE' % (trainScore))\n",
        "testScore = mean_absolute_error(testY[0], testPredict[:,0])\n",
        "print('Test Score: %.2f MAE' % (testScore))\n",
        "print(\"Acurácia LSTM: {:.2f}%\".format(100 - (testScore / testY.mean()) * 100))"
      ],
      "metadata": {
        "id": "Ip8JEOsbjRKQ",
        "colab": {
          "base_uri": "https://localhost:8080/"
        },
        "outputId": "7ea5061c-1455-4a8b-db50-3480344b5f9a"
      },
      "execution_count": 285,
      "outputs": [
        {
          "output_type": "stream",
          "name": "stdout",
          "text": [
            "Train Score: 303.55 MAE\n",
            "Test Score: 341.59 MAE\n",
            "Acurácia LSTM: 75.69%\n"
          ]
        }
      ]
    },
    {
      "cell_type": "code",
      "source": [
        "dif = testScore - trainScore\n",
        "\n",
        "plt.plot([0, 1], [trainScore, testScore], label='Curva de overlifiting')\n",
        "plt.plot([0, 1], [dif, dif],alpha=0)\n",
        "plt.legend()\n",
        "plt.show()"
      ],
      "metadata": {
        "colab": {
          "base_uri": "https://localhost:8080/",
          "height": 265
        },
        "id": "RkSxcqO_kRQa",
        "outputId": "99737b82-1b92-407a-d9fb-4fc21756fb58"
      },
      "execution_count": 286,
      "outputs": [
        {
          "output_type": "display_data",
          "data": {
            "text/plain": [
              "<Figure size 432x288 with 1 Axes>"
            ],
            "image/png": "[encoded data removed]"
          },
          "metadata": {
            "needs_background": "light"
          }
        }
      ]
    },
    {
      "cell_type": "code",
      "source": [
        "# Prever os próximos 5 dias\n",
        "\n",
        "def prever_proximos_5_dias(model, scaler, lstm, ultimos_5_dias):\n",
        "    next_day_pred = model.predict(np.reshape(ultimos_5_dias, (1, 1, 5)))\n",
        "    next_day_pred = scaler.inverse_transform(next_day_pred)\n",
        "    return int(next_day_pred[0][0])\n",
        "\n",
        "ultimos_5_dias = lstm.tail(5)\n",
        "ultimos_5_dias = np.array(ultimos_5_dias['Vendas'].values)\n",
        "\n",
        "next_5_days_pred = []\n",
        "for i in range(5):\n",
        "    next_day = prever_proximos_5_dias(model, scaler, lstm, ultimos_5_dias)\n",
        "    next_5_days_pred.append(next_day)\n",
        "    ultimos_5_dias = np.append(ultimos_5_dias[1:], next_day)\n",
        "\n",
        "next_5_days_pred = np.array(next_5_days_pred)\n",
        "\n",
        "print(\"Previsão das vendas nos próximos 5 dias: \", end='')\n",
        "for day in next_5_days_pred:\n",
        "    print(day, end=', ')"
      ],
      "metadata": {
        "id": "eiMsARobiZ9x",
        "colab": {
          "base_uri": "https://localhost:8080/"
        },
        "outputId": "31fc0cf2-1c52-4b2a-e316-aa1d710a5f22"
      },
      "execution_count": 287,
      "outputs": [
        {
          "output_type": "stream",
          "name": "stdout",
          "text": [
            "1/1 [==============================] - 0s 17ms/step\n",
            "1/1 [==============================] - 0s 17ms/step\n",
            "1/1 [==============================] - 0s 17ms/step\n",
            "1/1 [==============================] - 0s 17ms/step\n",
            "1/1 [==============================] - 0s 18ms/step\n",
            "Previsão das vendas nos próximos 5 dias: 549, 1013, 1746, 1746, 2293, "
          ]
        }
      ]
    },
    {
      "cell_type": "code",
      "source": [
        "new_lstm = dataset.copy()\n",
        "new_lstm = update_dataframe(new_lstm, next_5_days_pred)\n",
        "new_lstm.tail(7)"
      ],
      "metadata": {
        "colab": {
          "base_uri": "https://localhost:8080/",
          "height": 269
        },
        "id": "rl4InYPUrN8h",
        "outputId": "db9224fa-3bbe-4f9c-bb8d-e597993ac563"
      },
      "execution_count": 288,
      "outputs": [
        {
          "output_type": "execute_result",
          "data": {
            "text/plain": [
              "         Data  Vendas  dia_semana semana_ano  dia_mes\n",
              "44 2023-01-19    1405           3          3       19\n",
              "45 2023-01-20     945           4          3       20\n",
              "46 2023-01-21     549           6         03       21\n",
              "47 2023-01-22    1013           0         04       22\n",
              "48 2023-01-23    1746           1         04       23\n",
              "49 2023-01-24    1746           2         04       24\n",
              "50 2023-01-25    2293           3         04       25"
            ],
            "text/html": [
              "\n",
              "  <div id=\"df-17074c8a-c118-4d5c-ba34-06b818b255f8\">\n",
              "    <div class=\"colab-df-container\">\n",
              "      <div>\n",
              "<style scoped>\n",
              "    .dataframe tbody tr th:only-of-type {\n",
              "        vertical-align: middle;\n",
              "    }\n",
              "\n",
              "    .dataframe tbody tr th {\n",
              "        vertical-align: top;\n",
              "    }\n",
              "\n",
              "    .dataframe thead th {\n",
              "        text-align: right;\n",
              "    }\n",
              "</style>\n",
              "<table border=\"1\" class=\"dataframe\">\n",
              "  <thead>\n",
              "    <tr style=\"text-align: right;\">\n",
              "      <th></th>\n",
              "      <th>Data</th>\n",
              "      <th>Vendas</th>\n",
              "      <th>dia_semana</th>\n",
              "      <th>semana_ano</th>\n",
              "      <th>dia_mes</th>\n",
              "    </tr>\n",
              "  </thead>\n",
              "  <tbody>\n",
              "    <tr>\n",
              "      <th>44</th>\n",
              "      <td>2023-01-19</td>\n",
              "      <td>1405</td>\n",
              "      <td>3</td>\n",
              "      <td>3</td>\n",
              "      <td>19</td>\n",
              "    </tr>\n",
              "    <tr>\n",
              "      <th>45</th>\n",
              "      <td>2023-01-20</td>\n",
              "      <td>945</td>\n",
              "      <td>4</td>\n",
              "      <td>3</td>\n",
              "      <td>20</td>\n",
              "    </tr>\n",
              "    <tr>\n",
              "      <th>46</th>\n",
              "      <td>2023-01-21</td>\n",
              "      <td>549</td>\n",
              "      <td>6</td>\n",
              "      <td>03</td>\n",
              "      <td>21</td>\n",
              "    </tr>\n",
              "    <tr>\n",
              "      <th>47</th>\n",
              "      <td>2023-01-22</td>\n",
              "      <td>1013</td>\n",
              "      <td>0</td>\n",
              "      <td>04</td>\n",
              "      <td>22</td>\n",
              "    </tr>\n",
              "    <tr>\n",
              "      <th>48</th>\n",
              "      <td>2023-01-23</td>\n",
              "      <td>1746</td>\n",
              "      <td>1</td>\n",
              "      <td>04</td>\n",
              "      <td>23</td>\n",
              "    </tr>\n",
              "    <tr>\n",
              "      <th>49</th>\n",
              "      <td>2023-01-24</td>\n",
              "      <td>1746</td>\n",
              "      <td>2</td>\n",
              "      <td>04</td>\n",
              "      <td>24</td>\n",
              "    </tr>\n",
              "    <tr>\n",
              "      <th>50</th>\n",
              "      <td>2023-01-25</td>\n",
              "      <td>2293</td>\n",
              "      <td>3</td>\n",
              "      <td>04</td>\n",
              "      <td>25</td>\n",
              "    </tr>\n",
              "  </tbody>\n",
              "</table>\n",
              "</div>\n",
              "      <button class=\"colab-df-convert\" onclick=\"convertToInteractive('df-17074c8a-c118-4d5c-ba34-06b818b255f8')\"\n",
              "              title=\"Convert this dataframe to an interactive table.\"\n",
              "              style=\"display:none;\">\n",
              "        \n",
              "  <svg xmlns=\"http://www.w3.org/2000/svg\" height=\"24px\"viewBox=\"0 0 24 24\"\n",
              "       width=\"24px\">\n",
              "    <path d=\"M0 0h24v24H0V0z\" fill=\"none\"/>\n",
              "    <path d=\"M18.56 5.44l.94 2.06.94-2.06 2.06-.94-2.06-.94-.94-2.06-.94 2.06-2.06.94zm-11 1L8.5 8.5l.94-2.06 2.06-.94-2.06-.94L8.5 2.5l-.94 2.06-2.06.94zm10 10l.94 2.06.94-2.06 2.06-.94-2.06-.94-.94-2.06-.94 2.06-2.06.94z\"/><path d=\"M17.41 7.96l-1.37-1.37c-.4-.4-.92-.59-1.43-.59-.52 0-1.04.2-1.43.59L10.3 9.45l-7.72 7.72c-.78.78-.78 2.05 0 2.83L4 21.41c.39.39.9.59 1.41.59.51 0 1.02-.2 1.41-.59l7.78-7.78 2.81-2.81c.8-.78.8-2.07 0-2.86zM5.41 20L4 18.59l7.72-7.72 1.47 1.35L5.41 20z\"/>\n",
              "  </svg>\n",
              "      </button>\n",
              "      \n",
              "  <style>\n",
              "    .colab-df-container {\n",
              "      display:flex;\n",
              "      flex-wrap:wrap;\n",
              "      gap: 12px;\n",
              "    }\n",
              "\n",
              "    .colab-df-convert {\n",
              "      background-color: #E8F0FE;\n",
              "      border: none;\n",
              "      border-radius: 50%;\n",
              "      cursor: pointer;\n",
              "      display: none;\n",
              "      fill: #1967D2;\n",
              "      height: 32px;\n",
              "      padding: 0 0 0 0;\n",
              "      width: 32px;\n",
              "    }\n",
              "\n",
              "    .colab-df-convert:hover {\n",
              "      background-color: #E2EBFA;\n",
              "      box-shadow: 0px 1px 2px rgba(60, 64, 67, 0.3), 0px 1px 3px 1px rgba(60, 64, 67, 0.15);\n",
              "      fill: #174EA6;\n",
              "    }\n",
              "\n",
              "    [theme=dark] .colab-df-convert {\n",
              "      background-color: #3B4455;\n",
              "      fill: #D2E3FC;\n",
              "    }\n",
              "\n",
              "    [theme=dark] .colab-df-convert:hover {\n",
              "      background-color: #434B5C;\n",
              "      box-shadow: 0px 1px 3px 1px rgba(0, 0, 0, 0.15);\n",
              "      filter: drop-shadow(0px 1px 2px rgba(0, 0, 0, 0.3));\n",
              "      fill: #FFFFFF;\n",
              "    }\n",
              "  </style>\n",
              "\n",
              "      <script>\n",
              "        const buttonEl =\n",
              "          document.querySelector('#df-17074c8a-c118-4d5c-ba34-06b818b255f8 button.colab-df-convert');\n",
              "        buttonEl.style.display =\n",
              "          google.colab.kernel.accessAllowed ? 'block' : 'none';\n",
              "\n",
              "        async function convertToInteractive(key) {\n",
              "          const element = document.querySelector('#df-17074c8a-c118-4d5c-ba34-06b818b255f8');\n",
              "          const dataTable =\n",
              "            await google.colab.kernel.invokeFunction('convertToInteractive',\n",
              "                                                     [key], {});\n",
              "          if (!dataTable) return;\n",
              "\n",
              "          const docLinkHtml = 'Like what you see? Visit the ' +\n",
              "            '<a target=\"_blank\" href=https://colab.research.google.com/notebooks/data_table.ipynb>data table notebook</a>'\n",
              "            + ' to learn more about interactive tables.';\n",
              "          element.innerHTML = '';\n",
              "          dataTable['output_type'] = 'display_data';\n",
              "          await google.colab.output.renderOutput(dataTable, element);\n",
              "          const docLink = document.createElement('div');\n",
              "          docLink.innerHTML = docLinkHtml;\n",
              "          element.appendChild(docLink);\n",
              "        }\n",
              "      </script>\n",
              "    </div>\n",
              "  </div>\n",
              "  "
            ]
          },
          "metadata": {},
          "execution_count": 288
        }
      ]
    },
    {
      "cell_type": "code",
      "source": [
        "show_plot(new_lstm, timestamp=new_lstm['Data'].iloc[-6])"
      ],
      "metadata": {
        "colab": {
          "base_uri": "https://localhost:8080/",
          "height": 297
        },
        "id": "nxkizixZvC24",
        "outputId": "80f30227-d02b-46b2-92bf-15a4ce180fb7"
      },
      "execution_count": 289,
      "outputs": [
        {
          "output_type": "display_data",
          "data": {
            "text/plain": [
              "<Figure size 432x288 with 1 Axes>"
            ],
            "image/png": "[encoded data removed]"
          },
          "metadata": {
            "needs_background": "light"
          }
        }
      ]
    },
    {
      "cell_type": "markdown",
      "metadata": {
        "id": "p1CmVPUp7Nwj"
      },
      "source": [
        "# Parte 4: Resultados obtidos\n",
        "\n",
        "## Comparação entre os modelos\n",
        "|  Nome do modelo | Acuracia| Vantagens | Desvantagens |\n",
        "|---|---|---|---|\n",
        "| Regressão Linear | 71.83% |simples, funciona quando há uma relação linear entre entrada e saida.  | não funciona com interações não lineares ou efeitos sazonais complexos |\n",
        "| Random Forest | 86.91% | lida com efeitos sazonais complexos e não lineares | suscetível ao overfitting |\n",
        "| LSTM | 75.69% |é a técnica adequada para previsão sazonal de longo prazo | exige muitos dados para ser treinada, devido a sua natureza de memoriazação|\n",
        "| SARIMA  |N/A| eficaz para prever séries temporais com sazonalidade e tendência  | complexo |\n",
        "\n",
        "## Explicando os resultados\n",
        "\n",
        "- Regressão Linear é uma técnica simples, mas não é adequada para datasets pequenos ou complexos. Neste caso, o dataset é padronizado, mas ainda é insuficiente para treinar a regressão linear. Isso se torna evidente quando ocorre uma alocação maior de dados para o teste em relação ao treino, resultando em uma diminuição da precisão. Ao contrário disso, com menos dados para teste e uma quantidade maior de dados de treinamento, a precisão tende a ser maior, mesmo para prever os dados \"inéditos\" de teste.\n",
        "- Random Forest é capaz de lidar com datasets menores e mais complexos, encontrando padrões de forma mais eficiente, o que se aplica perfeitamente ao nosso caso.\n",
        "- LSTM é uma técnica eficiente para previsão de séries temporais, amplamente utilizada para prever tendências de vendas. No entanto, devido à sua natureza de memorização, precisa de uma grande quantidade de dados para ser treinada adequadamente. Infelizmente, o nosso dataset possui apenas 45 linhas, o que torna a utilização do LSTM improvável para atingir uma alta acurácia.\n",
        "\n",
        "## Conclusão e possiveis melhorias\n",
        "A análise pode ser significativamente aperfeiçoada se o dataset tiver mais informações, como por exemplo, o histórico de vendas dos últimos dois anos. Neste caso, seria possível adicionar novas colunas, como se é feriado ou não, a época do ano, e até mesmo integrar com uma API para obter tendências no Twitter e notícias relevantes. Dessa forma, seria possível prever as vendas futuras de uma empresa com uma alta precisão.\n",
        "\n",
        "\n",
        "<hr>\n",
        "\n"
      ]
    },
    {
      "cell_type": "code",
      "source": [
        "plt.bar([\"Regressão Linear\"], [71.83], color='red')\n",
        "plt.bar([\"Random Forest\"], [86.91], color='green')\n",
        "plt.bar([\"LSTM\"], [75.69], color='blue')\n",
        "plt.title(\"Acurácia\")\n",
        "plt.show()"
      ],
      "metadata": {
        "colab": {
          "base_uri": "https://localhost:8080/",
          "height": 281
        },
        "id": "LSSOfFd6SG0L",
        "outputId": "fabfde1c-db5e-4277-af39-3299d458fec4"
      },
      "execution_count": 290,
      "outputs": [
        {
          "output_type": "display_data",
          "data": {
            "text/plain": [
              "<Figure size 432x288 with 1 Axes>"
            ],
            "image/png": "[encoded data removed]"
          },
          "metadata": {
            "needs_background": "light"
          }
        }
      ]
    },
    {
      "cell_type": "code",
      "source": [
        "plt.plot(reg_lin['Vendas'], 'red', label='Previsão Regressão Linear')\n",
        "plt.plot(reg_rf['Vendas'], 'green', label='Previsão Random Forest')\n",
        "plt.plot(new_lstm['Vendas'], 'blue', label='Previsão LSTM')\n",
        "plt.plot(dataset['Vendas'], 'c', label='Vendas original')\n",
        "plt.legend()\n",
        "plt.show()"
      ],
      "metadata": {
        "colab": {
          "base_uri": "https://localhost:8080/",
          "height": 265
        },
        "id": "st8v3_lPyNh4",
        "outputId": "0dc7604f-97b7-45c2-d8e7-bff87beb4c79"
      },
      "execution_count": 291,
      "outputs": [
        {
          "output_type": "display_data",
          "data": {
            "text/plain": [
              "<Figure size 432x288 with 1 Axes>"
            ],
            "image/png": "[encoded data removed]"
          },
          "metadata": {
            "needs_background": "light"
          }
        }
      ]
    }
  ]
}